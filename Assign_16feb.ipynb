{
 "cells": [
  {
   "cell_type": "markdown",
   "id": "a4c3e11f-e7f5-4004-a9f8-fdd4ea3575ae",
   "metadata": {},
   "source": [
    "Q1. What is a database? Differentiate between SQL and NoSQL databases."
   ]
  },
  {
   "cell_type": "markdown",
   "id": "c05481f6-50d5-452a-88fa-b7691e1acf22",
   "metadata": {},
   "source": [
    "Answere:- A database is an organized collection of structured information, or data, typically stored electronically in a computer system. A database is usually controlled by a database management system (DBMS). \n",
    "\n",
    "SQL :- When to use SQL\n",
    "SQL is a good choice when working with related data. Relational databases are efficient, flexible and easily accessed by any application. A benefit of a relational database is that when one user updates a specific record, every instance of the database automatically refreshes, and that information is provided in real-time.\n",
    "SQL and a relational database make it easy to handle a great deal of information, scale as necessary and allow flexible access to data — only needing to update data once instead of changing multiple files, for instance. It’s also best for assessing data integrity. Since each piece of information is stored in a single place, there’s no problem with former versions confusing the picture.\n",
    "Most of the big tech companies use SQL, including Uber, Netflix and Airbnb. Even major companies like Google, Facebook and Amazon, which build their own database systems, use SQL to query and analyze data.\n",
    "When to use NoSQL\n",
    "While SQL is valued for ensuring data validity, NoSQL is good when it’s more important that the availability of big data is fast. It’s also a good choice when a company will need to scale because of changing requirements. NoSQL is easy-to-use, flexible and offers high performance.\n",
    "\n",
    "NOSQL :-\n",
    "NoSQL is also a good choice when there are large amounts of (or ever-changing) data sets or when working with flexible data models or needs that don't fit into a relational model. When working with large amounts of unstructured data, document databases (e.g., CouchDB, MongoDB, and Amazon DocumentDB) are a good fit. For quick access to a key-value store without strong integrity guarantees, Redis may be the best choice. When a complex or flexible search across a lot of data is needed, Elastic Search is a good choice.\n",
    "Scalability is a significant benefit of NoSQL databases. Unlike with SQL, their built-in sharding and high availability requirements allow horizontal scaling. Furthermore, NoSQL databases like Cassandra, developed by Facebook, handle massive amounts of data spread across many servers, having no single points of failure and providing maximum availability.\n",
    "Other big companies that use NoSQL systems because they are dependent on large volumes of data not suited to a relational database include Amazon, Google and Netflix. In general, the more extensive the dataset, the more likely that NoSQL is a better choice.\n",
    "\n"
   ]
  },
  {
   "cell_type": "markdown",
   "id": "a781ed89-7fd9-40e5-b09e-21bfcb9cd884",
   "metadata": {},
   "source": [
    "Q2. What is DDL? Explain why CREATE, DROP, ALTER, and TRUNCATE are used with an example."
   ]
  },
  {
   "cell_type": "markdown",
   "id": "8a701dd5-5936-49cb-8957-cf2477dc1bdc",
   "metadata": {},
   "source": [
    "Answere :- Data Definition Language(DDL) is a subset of SQL and a part of DBMS(Database Management System). DDL consist of Commands to commands like CREATE, ALTER, TRUNCATE and DROP. These commands are used to create or modify the tables in SQL.\n",
    "\n",
    "CREATE :\n",
    "This command is used to create a new table in SQL. The user has to give information like table name, column names, and their datatype\n",
    "CREATE TABLE table_name\n",
    "(\n",
    "column_1 datatype,\n",
    "column_2 datatype,\n",
    "column_3 datatype,\n",
    "....\n",
    ");\n",
    "\n",
    "ALTER :\n",
    "This command is used to add, delete or change columns in the existing table. The user needs to know the existing table name and can do add, delete or modify tasks easily.\n",
    "Syntax –\n",
    "Syntax to add a column to an existing table.\n",
    "ALTER TABLE table_name\n",
    "ADD column_name datatype;\n",
    "\n",
    "TRUNCATE :\n",
    "This command is used to remove all rows from the table, but the structure of the table still exists.\n",
    "\n",
    "Syntax –\n",
    "Syntax to remove an existing table.\n",
    "\n",
    "TRUNCATE TABLE table_name;\n",
    "\n",
    "DROP :\n",
    "This command is used to remove an existing table along with its structure from the Database.\n",
    "\n",
    "Syntax –\n",
    "Syntax to drop an existing table.\n",
    "\n",
    "DROP TABLE table_name;"
   ]
  },
  {
   "cell_type": "markdown",
   "id": "d92f329c-36a9-4e8e-a1c5-c98e2a527988",
   "metadata": {},
   "source": [
    "Q3. What is DML? Explain INSERT, UPDATE, and DELETE with an example."
   ]
  },
  {
   "cell_type": "markdown",
   "id": "4773452e-33a3-40a9-b4a2-a04a12ae3d20",
   "metadata": {},
   "source": [
    "Answere :-  DML Command: The data manipulation language statements are used to retrieve, add, delete, and modify the data that is stored in the objects of database. The keywords or statements that are associated with the data manipulation language are: SELECT INSERT, UPDATE and DELETE. These are the primary statements of data manipulation language (DML) and are used widely.\n",
    "\n",
    "INSERT Command:-  To add data to a table the INSERT command is used. The syntax of the INSERT command is given below:\n",
    "INSERT into table-name values (data, data …)\n",
    "\n",
    "EXAMPLE to insert NULL value to a column :-\n",
    "In the above query if you do not specify or define any of the fields then a null value will be inserted into that field or column. For example if the in the above example the field is not specified that is the name of the employee is not mentioned in the query then the name field will be assigned a NULL value. However if a default value is set then a default value will be inserted instead of a null value.\n",
    "\n",
    "Update Command:  To update a table or row or column in the table we use the update command. The syntax of update command is given below:\n",
    "\n",
    "Update table-name set column-name = value where condition;\n",
    "\n",
    "Delete Command :- To delete a table row or some data from a table in the database the delete command is used. The syntax of delete command is as follows:\n",
    "\n",
    "DELETE from table-name;\n",
    "\n",
    "EXAMPLE to delete all records from a table :-\n",
    "To delete all records use the delete command. This will delete the attributes, indexes etc. of the table but the table as a whole will not be deleted. To delete all records from the table use the following SQL statement:\n",
    "DELETE from Employee;\n",
    "\n",
    "\n"
   ]
  },
  {
   "cell_type": "markdown",
   "id": "fb98a610-2ac5-4091-b959-367c63e281cb",
   "metadata": {},
   "source": [
    "Q4. What is DQL? Explain SELECT with an example."
   ]
  },
  {
   "cell_type": "markdown",
   "id": "81936006-913a-4ada-920e-73e195842d66",
   "metadata": {},
   "source": [
    "Answere :- DQL : statements are used for performing queries on the data within schema objects. The purpose of the DQL Command is to get some schema relation based on the query passed to it. We can define DQL as follows it is a component of SQL statement that allows getting data from the database and imposing order upon it. It includes the SELECT statement. This command allows getting the data out of the database to perform operations with it. When a SELECT is fired against a table or tables the result is compiled into a further temporary table, which is displayed or perhaps received by the program i.e. a front-end.\n",
    "\n",
    "SELECT :- The SELECT Statement in SQL is used to retrieve or fetch data from a database. We can fetch either the entire table or according to some specified rules. The data returned is stored in a result table. This result table is also called the result set. With the SELECT clause of a SELECT command statement, we specify the columns that we want to be displayed in the query result and, optionally, which column headings we prefer to see above the result table. The select clause is the first clause and is one of the last clauses of the select statement that the database server evaluates. The reason for this is that before we can determine what to include in the final result set, we need to know all of the possible columns that could be included in the final result set.\n",
    "\n",
    "Example :- \n",
    " \n",
    " CREATE TABLE Customer(\n",
    "    CustomerID INT PRIMARY KEY,\n",
    "    CustomerName VARCHAR(50),\n",
    "    LastName VARCHAR(50),\n",
    "    Country VARCHAR(50),\n",
    "    Age int(2),\n",
    "  Phone int(10)\n",
    ");\n",
    "-- Insert some sample data into the Customers table\n",
    "INSERT INTO Customer (CustomerID, CustomerName, LastName, Country, Age, Phone)\n",
    "VALUES (1, 'Shubham', 'Thakur', 'India','23','xxxxxxxxxx'),\n",
    "       (2, 'Aman ', 'Chopra', 'Australia','21','xxxxxxxxxx'),\n",
    "       (3, 'Naveen', 'Tulasi', 'Sri lanka','24','xxxxxxxxxx'),\n",
    "       (4, 'Aditya', 'Arpan', 'Austria','21','xxxxxxxxxx'),\n",
    "       (5, 'Nishant. Salchichas S.A.', 'Jain', 'Spain','22','xxxxxxxxxx');"
   ]
  },
  {
   "cell_type": "markdown",
   "id": "f7cb3d44-5089-4685-93a0-9a1aeacb8773",
   "metadata": {},
   "source": [
    "Q5. Explain Primary Key and Foreign Key."
   ]
  },
  {
   "cell_type": "markdown",
   "id": "92977412-5e5f-453b-90ca-f50575ba814a",
   "metadata": {},
   "source": [
    "Answere :- Primary Key : A primary key is used to ensure that data in the specific column is unique. A column cannot have NULL values. It is either an existing table column or a column that is specifically generated by the database according to a defined sequence. \n",
    "Example: Refer the figure – \n",
    "STUD_NO, as well as STUD_PHONE both, are candidate keys for relation STUDENT but STUD_NO can be chosen as the primary key (only one out of many candidate keys). \n",
    "\n",
    "Foreign Key :- A foreign key is a column or group of columns in a relational database table that provides a link between data in two tables. It is a column (or columns) that references a column (most often the primary key) of another table. \n",
    "Example: Refer the figure – \n",
    "STUD_NO in STUDENT_COURSE is a foreign key to STUD_NO in STUDENT relation. "
   ]
  },
  {
   "cell_type": "markdown",
   "id": "eb872c5f-aff1-4fbc-91ab-e1c3822aba84",
   "metadata": {},
   "source": [
    "Q6. Write a python code to connect MySQL to python. Explain the cursor() and execute() method."
   ]
  },
  {
   "cell_type": "markdown",
   "id": "b43dc105-7335-4888-8146-ec28d2de64e3",
   "metadata": {},
   "source": [
    "Answere :- \n",
    "A cursor is an object which helps to execute the query and fetch the records from the database. The cursor plays a very important role in executing the query. This article will learn some deep information about the execute methods and how to use those methods in python."
   ]
  },
  {
   "cell_type": "code",
   "execution_count": 1,
   "id": "14d082a0-9b0e-48dc-bd88-43f0683e91aa",
   "metadata": {},
   "outputs": [
    {
     "ename": "IndentationError",
     "evalue": "unexpected indent (2273772007.py, line 2)",
     "output_type": "error",
     "traceback": [
      "\u001b[0;36m  Cell \u001b[0;32mIn[1], line 2\u001b[0;36m\u001b[0m\n\u001b[0;31m    db_connection = mysql.connector.connect(\u001b[0m\n\u001b[0m    ^\u001b[0m\n\u001b[0;31mIndentationError\u001b[0m\u001b[0;31m:\u001b[0m unexpected indent\n"
     ]
    }
   ],
   "source": [
    "import mysql.connector\n",
    "\tdb_connection = mysql.connector.connect(\n",
    "  \thost=\"hostname\",\n",
    "  \tuser=\"username\",\n",
    "  \tpasswd=\"password\"\n",
    "    )"
   ]
  },
  {
   "cell_type": "markdown",
   "id": "abb7287e-7e76-4895-986b-433246be1c2d",
   "metadata": {},
   "source": [
    "Q7. Give the order of execution of SQL clauses in an SQL query."
   ]
  },
  {
   "cell_type": "markdown",
   "id": "754d703a-25bc-4921-8038-a9de8c0d64e8",
   "metadata": {},
   "source": [
    "Answere :- The order in which the clauses in queries are executed is as follows:\n",
    "\n",
    "1. FROM/JOIN: The FROM and/or JOIN clauses are executed first to determine the data of interest.\n",
    "\n",
    "2. WHERE: The WHERE clause is executed to filter out records that do not meet the constraints.\n",
    "\n",
    "3. GROUP BY: The GROUP BY clause is executed to group the data based on the values in one or more columns.\n",
    "\n",
    "4. HAVING: The HAVING clause is executed to remove the created grouped records that don’t meet the constraints.\n",
    "\n",
    "5. SELECT: The SELECT clause is executed to derive all desired columns and expressions.\n",
    "\n",
    "6. ORDER BY: The ORDER BY clause is executed to sort the derived values in ascending or descending order.\n",
    "\n",
    "7. LIMIT/OFFSET: Finally, the LIMIT and/or OFFSET clauses are executed to keep or skip a specified number of rows."
   ]
  },
  {
   "cell_type": "code",
   "execution_count": null,
   "id": "5e0dbeb3-4b95-4af9-8d74-c3d817bab238",
   "metadata": {},
   "outputs": [],
   "source": []
  }
 ],
 "metadata": {
  "kernelspec": {
   "display_name": "Python 3 (ipykernel)",
   "language": "python",
   "name": "python3"
  },
  "language_info": {
   "codemirror_mode": {
    "name": "ipython",
    "version": 3
   },
   "file_extension": ".py",
   "mimetype": "text/x-python",
   "name": "python",
   "nbconvert_exporter": "python",
   "pygments_lexer": "ipython3",
   "version": "3.10.8"
  }
 },
 "nbformat": 4,
 "nbformat_minor": 5
}
